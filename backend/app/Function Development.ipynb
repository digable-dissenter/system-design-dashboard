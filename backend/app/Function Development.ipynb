{
 "cells": [
  {
   "cell_type": "code",
   "execution_count": null,
   "metadata": {},
   "outputs": [],
   "source": [
    "import pandas as pd\n",
    "import numpy as np\n",
    "from sqlalchemy.engine import URL, create_engine, Inspector\n",
    "\n",
    "# Use your own server connection here\n",
    "cnxn_str = (\"Driver={SQL Server Native Client 11.0};\"\n",
    "            \"Server=DAIYAAN;\"\n",
    "            \"Database=AIFMRM_ERS;\"\n",
    "            \"Trusted_Connection=yes;\")\n",
    "\n",
    "cnxn_url = URL.create(\"mssql+pyodbc\", query={\"odbc_connect\": cnxn_str})\n",
    "\n",
    "engine = create_engine(cnxn_url)\n",
    "\n",
    "\n",
    "# initialise connection via context manager           \n",
    "with engine.connect() as cnxn:\n",
    "        tables_df = pd.read_sql('SELECT [name] AS [table_name] FROM sys.tables', cnxn)\n",
    "        table_name_list = tables_df.table_name\n",
    "        select_template = 'SELECT * FROM {table_name}'\n",
    "        # Dictionary of table names and their respective SQL queries\n",
    "        frames_dict = {}\n",
    "        for tname in table_name_list:\n",
    "                query = select_template.format(table_name = tname)\n",
    "                frames_dict[tname] = pd.read_sql(query, cnxn)"
   ]
  },
  {
   "cell_type": "markdown",
   "metadata": {},
   "source": [
    "Function 1"
   ]
  },
  {
   "cell_type": "code",
   "execution_count": null,
   "metadata": {},
   "outputs": [],
   "source": [
    "def GetICsAndWeights(rDate,IndexCode,dbo_tbl_Index_Constituents):\n",
    "    #Store tbl_Index_Constituents from frames_dict\n",
    "    tbl_Index_Constituents = frames_dict[dbo_tbl_Index_Constituents]\n",
    "\n",
    "    #rDate will be supplied by the user: consisting of year and Quarter \n",
    "    rDate = rDate\n",
    "    rDate = pd.to_datetime(rDate, format = \"%Y-%m-%d\")\n",
    "    rDate_Quarter = rDate.quarter\n",
    "    rDate_Year = rDate.year\n",
    "\n",
    "    #search tbl_Index_Constituents Date column and find Quarter and Year for each date in column\n",
    "    Dates_Col = tbl_Index_Constituents[\"Date\"]\n",
    "    Dates_Col = pd.arrays.DatetimeArray(Dates_Col)\n",
    "    Dates_Col_Quarter = Dates_Col.quarter\n",
    "    Dates_Col_Year = Dates_Col.year\n",
    "\n",
    "    #Filter tbl_Index_Constituents using supplied quarter and year data from rData\n",
    "    tbl_Index_Constituents_Date = tbl_Index_Constituents.loc[(Dates_Col_Quarter == rDate_Quarter) & (Dates_Col_Year == rDate_Year),]\n",
    "\n",
    "\n",
    "    #IndexCode is provided by user: \"ALSI\", \"FLED\", \"LRGC\", \"MIDC\", \"SMLC\", \"TOPI\", \"RESI\", \"FINI\", \"INDI\", \"PCAP\", \"SAPY\" or \"ALTI\"\n",
    "    IndexCode = IndexCode #provided as input by the user. \"ALSI\" for testing purposes\n",
    "\n",
    "    #function to identify The index column that must be searched\n",
    "    def Index_Col_Identifier(argument):\n",
    "        match argument:\n",
    "            case \"FLED\":\n",
    "                return \"ALSI New\"\n",
    "            case  \"LRGG\"|\"MIDC\"|\"SMILC\":\n",
    "                return \"Index New\"\n",
    "            case default:\n",
    "                return argument+\" New\"\n",
    "    \n",
    "    IndexCode_Col = Index_Col_Identifier(IndexCode) #Obtain column name to search relevant rows\n",
    "\n",
    "    #Filter tbl_Index_Constituents_Date using supplied IndexCode in the column identified from Index_Col_Identifier function\n",
    "    tbl_Index_Constituents_final = tbl_Index_Constituents_Date[tbl_Index_Constituents_Date[IndexCode_Col] == IndexCode]\n",
    "\n",
    "    #Generate results table with Shares and corresponding share weights\n",
    "    Alpha = pd.DataFrame(tbl_Index_Constituents_final.loc[:,\"Alpha\"])\n",
    "    Gross_Market_Capitalisation = np.array(tbl_Index_Constituents_final.loc[:,\"Gross Market Capitalisation\"])\n",
    "    Weigths = pd.DataFrame(Gross_Market_Capitalisation/np.sum(Gross_Market_Capitalisation))\n",
    "    Results = pd.concat([Alpha.reset_index(drop=True), Weigths.reset_index(drop=True)],axis=1)\n",
    "    Results.columns = ['Alpha','Weights']\n",
    "\n",
    "    return Results\n",
    "\n",
    "\n",
    "rDate = '2019-6-05'\n",
    "IndexCode = \"ALSI\"\n",
    "dbo_tbl_Index_Constituents = \"tbl_Index_Constituents\"\n",
    "Output1 = GetICsAndWeights(rDate,IndexCode,dbo_tbl_Index_Constituents)"
   ]
  },
  {
   "cell_type": "markdown",
   "metadata": {},
   "source": [
    "Function 2"
   ]
  },
  {
   "cell_type": "code",
   "execution_count": null,
   "metadata": {},
   "outputs": [],
   "source": [
    "def GetBetasMktAndSpecVols(rDate,ICs,dbo_tbl_BA_Beta_Output,mktIndexCode):\n",
    "\n",
    "    #Store tbl_BA_Beta_Output from frames_dict\n",
    "    tbl_BA_Beta_Output = frames_dict[dbo_tbl_BA_Beta_Output]\n",
    "\n",
    "    #rDate will be supplied by the user: consisting of year and Quarter \n",
    "    rDate = rDate\n",
    "    rDate = pd.to_datetime(rDate, format = \"%Y-%m-%d\")\n",
    "    rDate_Quarter = rDate.quarter\n",
    "    rDate_Year = rDate.year\n",
    "\n",
    "    #search tbl_Index_Constituents Date column and find Quarter and Year for each date in column\n",
    "    Dates_Col = tbl_BA_Beta_Output[\"Date\"]\n",
    "    Dates_Col = pd.arrays.DatetimeArray(Dates_Col)\n",
    "    Dates_Col_Quarter = Dates_Col.quarter\n",
    "    Dates_Col_Year = Dates_Col.year\n",
    "\n",
    "    #Filter tbl_BA_Beta_Output using supplied quarter and year data from rData\n",
    "    tbl_BA_Beta_Output_Date = tbl_BA_Beta_Output.loc[(Dates_Col_Quarter == rDate_Quarter) & (Dates_Col_Year == rDate_Year),]\n",
    "    #return tbl_BA_Beta_Output_Date\n",
    "    #Market index code provided by the user which could be \"J203\", \"J200\", \"J250\", \"J257\" or \"J258\"\n",
    "    mktIndexCode = mktIndexCode\n",
    "\n",
    "    #Filter tbl_BA_Beta_Output_Dates using provided mktIndexCode\n",
    "    tbl_BA_Beta_Output_mktIndex = tbl_BA_Beta_Output_Date.loc[tbl_BA_Beta_Output_Date[\"Index\"] == mktIndexCode]\n",
    "    #return tbl_BA_Beta_Output_mktIndex\n",
    "\n",
    "    #list of IndexCodes obtain from  the Alpha column in the Output of Function 1.\n",
    "    ICs = ICs\n",
    "    tbl_BA_Beta_Output_IC = tbl_BA_Beta_Output_mktIndex.loc[tbl_BA_Beta_Output_mktIndex[\"Instrument\"].isin(ICs)]\n",
    "\n",
    "    #Generate results table with Shares and corresponding share weights\n",
    "    Betas = tbl_BA_Beta_Output_IC.loc[:,\"Beta\"]\n",
    "    specVols = tbl_BA_Beta_Output_IC.loc[:,\"Unique Risk\"]\n",
    "    mktVol = tbl_BA_Beta_Output_IC.loc[:,\"Total Risk\"]\n",
    "    Results = pd.concat([Betas.reset_index(drop=True), specVols.reset_index(drop=True),mktVol.reset_index(drop=True)],axis=1)\n",
    "    Results.columns = ['Betas','specVols','mktVol']\n",
    "\n",
    "    return Results\n",
    "    #return tbl_BA_Beta_Output_IC\n",
    "\n",
    "ICs = Output1[\"Alpha\"]\n",
    "dbo_tbl_BA_Beta_Output = \"tbl_BA_Beta_Output\"\n",
    "mktIndexCode = \"J203\"\n",
    "Output2 = GetBetasMktAndSpecVols(rDate,ICs,dbo_tbl_BA_Beta_Output,mktIndexCode)"
   ]
  },
  {
   "cell_type": "markdown",
   "metadata": {},
   "source": [
    "Function 3"
   ]
  },
  {
   "cell_type": "code",
   "execution_count": null,
   "metadata": {},
   "outputs": [],
   "source": [
    "def CalcStats(weights,betas,specVols,mktVol):\n",
    "\n",
    "    weights = np.transpose(np.matrix(Output1[\"Weights\"]))\n",
    "    betas = np.transpose(np.matrix(Output2[\"Betas\"]))\n",
    "    specVols = np.transpose(np.matrix(Output2[\"specVols\"]))\n",
    "    mktVol = np.array(Output2[\"mktVol\"])\n",
    "    mktVol = np.average(mktVol) #Assuming the mktVol is the average. NEED TO CONFIRM\n",
    "\n",
    "    pfBeta = np.matmul(np.transpose(weights),betas)\n",
    "\n",
    "    sysCov = np.matmul(betas,np.transpose(betas))*(mktVol**2)\n",
    "\n",
    "    pfSysVol = np.transpose(weights)@betas@np.transpose(betas)@(weights)*(mktVol**2)\n",
    "\n",
    "    specCov = np.diagflat(specVols)@np.diagflat(specVols)\n",
    "\n",
    "    pfSpecVol = np.transpose(weights)@(specCov)@weights\n",
    "\n",
    "    totCov = sysCov + specCov\n",
    "\n",
    "    pfVol = pfSysVol + pfSpecVol"
   ]
  }
 ],
 "metadata": {
  "kernelspec": {
   "display_name": "Python 3.10.5 64-bit",
   "language": "python",
   "name": "python3"
  },
  "language_info": {
   "name": "python",
   "version": "3.10.5"
  },
  "orig_nbformat": 4,
  "vscode": {
   "interpreter": {
    "hash": "921a9f4eb1b92f7c45465ac512b7e65f267dfc6f92c15eb890e7adb4e74bdac0"
   }
  }
 },
 "nbformat": 4,
 "nbformat_minor": 2
}
